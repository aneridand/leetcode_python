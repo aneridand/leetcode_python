{
 "cells": [
  {
   "cell_type": "markdown",
   "id": "reported-bouquet",
   "metadata": {},
   "source": [
    "[Leetcode URL](https://leetcode.com/problems/add-two-numbers/submissions/)"
   ]
  },
  {
   "cell_type": "raw",
   "id": "promising-advancement",
   "metadata": {},
   "source": [
    "# Definition for singly-linked list.\n",
    "# Does not work with leet code because of predefined ListNode class\n",
    "class ListNode:\n",
    "    def __init__(self, val=0, next=None):\n",
    "        self.val = val\n",
    "        self.next = next\n",
    "    def getNumber(self):\n",
    "        num = 0\n",
    "        while self is not None:\n",
    "            num = num*10\n",
    "            num += self.val\n",
    "            self = self.next\n",
    "        return num\n",
    "    \n",
    "    def reverseNumber(self):\n",
    "        num = self.getNumber()\n",
    "        n = num\n",
    "        r_num = 0\n",
    "        while n > 0:\n",
    "            r_num *= 10\n",
    "            r_num += n%10 \n",
    "            n = n//10\n",
    "        return r_num\n",
    "    \n",
    "class Solution:\n",
    "    def addTwoNumbers(self, l1: ListNode, l2: ListNode) -> ListNode:\n",
    "        num_1 = l1.reverseNumber()\n",
    "        num_2 = l2.reverseNumber()\n",
    "        total = num_1 + num_2\n",
    "        head = None\n",
    "        current = None\n",
    "        previous = None\n",
    "        rem = total\n",
    "        while rem > 0:\n",
    "            current = ListNode(val = rem%10)\n",
    "            if head is None:\n",
    "                head = current\n",
    "                previous = current\n",
    "            else:\n",
    "                previous.next = current\n",
    "                previous = current\n",
    "                \n",
    "            rem = rem // 10\n",
    "        return head"
   ]
  },
  {
   "cell_type": "code",
   "execution_count": 44,
   "id": "saved-salmon",
   "metadata": {},
   "outputs": [],
   "source": [
    "class ListNode:\n",
    "    def __init__(self, val=0, next=None):\n",
    "        self.val = val\n",
    "        self.next = next\n",
    "\n",
    "class Solution:\n",
    "    def addTwoNumbers(self, l1: ListNode, l2: ListNode) -> ListNode:\n",
    "        dummy = ListNode(-999)\n",
    "        current_r = dummy\n",
    "        previous_r = dummy\n",
    "        current_1 = l1\n",
    "        previous_1 = l1\n",
    "        current_2 = l2\n",
    "        previous_2 = l2\n",
    "        carry = 0\n",
    "        while current_1 is not None or current_2 is not None:\n",
    "            if current_1 is None:\n",
    "                current_1 = ListNode()\n",
    "            elif current_2 is None:\n",
    "                current_2 = ListNode()\n",
    "            current_r.next = ListNode()\n",
    "            previous_r = current_r\n",
    "            current_r = previous_r.next\n",
    "            ans = carry + (current_1.val + current_2.val)\n",
    "            current_r.val = ans%10\n",
    "            carry = ans//10\n",
    "            current_1 = current_1.next\n",
    "            current_2 = current_2.next\n",
    "        if carry:\n",
    "            current_r.next = ListNode(carry)\n",
    "        return dummy.next\n",
    "            "
   ]
  },
  {
   "cell_type": "code",
   "execution_count": 45,
   "id": "wound-coordination",
   "metadata": {},
   "outputs": [],
   "source": [
    "my_list_1 = ListNode(7, ListNode(1, ListNode(4)))\n",
    "my_list_2 = ListNode(9, ListNode(5, ListNode(0, ListNode(5, ListNode(6)))))\n",
    "s = Solution()"
   ]
  },
  {
   "cell_type": "code",
   "execution_count": 46,
   "id": "worldwide-birth",
   "metadata": {},
   "outputs": [],
   "source": [
    "h = s.addTwoNumbers(my_list_1, my_list_2)"
   ]
  },
  {
   "cell_type": "code",
   "execution_count": 47,
   "id": "impossible-proposition",
   "metadata": {},
   "outputs": [
    {
     "data": {
      "text/plain": [
       "65476"
      ]
     },
     "execution_count": 47,
     "metadata": {},
     "output_type": "execute_result"
    }
   ],
   "source": [
    "417+65059"
   ]
  },
  {
   "cell_type": "code",
   "execution_count": 48,
   "id": "known-plasma",
   "metadata": {},
   "outputs": [
    {
     "data": {
      "text/plain": [
       "6"
      ]
     },
     "execution_count": 48,
     "metadata": {},
     "output_type": "execute_result"
    }
   ],
   "source": [
    "h.val"
   ]
  },
  {
   "cell_type": "code",
   "execution_count": 49,
   "id": "dense-procedure",
   "metadata": {},
   "outputs": [
    {
     "data": {
      "text/plain": [
       "7"
      ]
     },
     "execution_count": 49,
     "metadata": {},
     "output_type": "execute_result"
    }
   ],
   "source": [
    "h.next.val"
   ]
  },
  {
   "cell_type": "code",
   "execution_count": 50,
   "id": "handy-dallas",
   "metadata": {},
   "outputs": [
    {
     "data": {
      "text/plain": [
       "4"
      ]
     },
     "execution_count": 50,
     "metadata": {},
     "output_type": "execute_result"
    }
   ],
   "source": [
    "h.next.next.val"
   ]
  },
  {
   "cell_type": "code",
   "execution_count": 51,
   "id": "affiliated-singles",
   "metadata": {},
   "outputs": [
    {
     "data": {
      "text/plain": [
       "5"
      ]
     },
     "execution_count": 51,
     "metadata": {},
     "output_type": "execute_result"
    }
   ],
   "source": [
    "h.next.next.next.val"
   ]
  },
  {
   "cell_type": "code",
   "execution_count": 52,
   "id": "silver-visit",
   "metadata": {},
   "outputs": [
    {
     "data": {
      "text/plain": [
       "6"
      ]
     },
     "execution_count": 52,
     "metadata": {},
     "output_type": "execute_result"
    }
   ],
   "source": [
    "h.next.next.next.next.val"
   ]
  },
  {
   "cell_type": "code",
   "execution_count": 53,
   "id": "prime-reconstruction",
   "metadata": {},
   "outputs": [
    {
     "ename": "AttributeError",
     "evalue": "'NoneType' object has no attribute 'val'",
     "output_type": "error",
     "traceback": [
      "\u001b[0;31m---------------------------------------------------------------------------\u001b[0m",
      "\u001b[0;31mAttributeError\u001b[0m                            Traceback (most recent call last)",
      "\u001b[0;32m<ipython-input-53-0cc47eb7b6d5>\u001b[0m in \u001b[0;36m<module>\u001b[0;34m\u001b[0m\n\u001b[0;32m----> 1\u001b[0;31m \u001b[0mh\u001b[0m\u001b[0;34m.\u001b[0m\u001b[0mnext\u001b[0m\u001b[0;34m.\u001b[0m\u001b[0mnext\u001b[0m\u001b[0;34m.\u001b[0m\u001b[0mnext\u001b[0m\u001b[0;34m.\u001b[0m\u001b[0mnext\u001b[0m\u001b[0;34m.\u001b[0m\u001b[0mnext\u001b[0m\u001b[0;34m.\u001b[0m\u001b[0mval\u001b[0m\u001b[0;34m\u001b[0m\u001b[0;34m\u001b[0m\u001b[0m\n\u001b[0m",
      "\u001b[0;31mAttributeError\u001b[0m: 'NoneType' object has no attribute 'val'"
     ]
    }
   ],
   "source": [
    "h.next.next.next.next.next.val"
   ]
  },
  {
   "cell_type": "code",
   "execution_count": null,
   "id": "determined-liberia",
   "metadata": {},
   "outputs": [],
   "source": []
  }
 ],
 "metadata": {
  "kernelspec": {
   "display_name": "Python 3",
   "language": "python",
   "name": "python3"
  },
  "language_info": {
   "codemirror_mode": {
    "name": "ipython",
    "version": 3
   },
   "file_extension": ".py",
   "mimetype": "text/x-python",
   "name": "python",
   "nbconvert_exporter": "python",
   "pygments_lexer": "ipython3",
   "version": "3.8.5"
  }
 },
 "nbformat": 4,
 "nbformat_minor": 5
}
