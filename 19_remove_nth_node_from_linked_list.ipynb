{
 "cells": [
  {
   "cell_type": "markdown",
   "id": "auburn-differential",
   "metadata": {},
   "source": [
    "[Leetcode URL](https://leetcode.com/problems/remove-nth-node-from-end-of-list/)"
   ]
  },
  {
   "cell_type": "code",
   "execution_count": 28,
   "id": "civilian-portrait",
   "metadata": {},
   "outputs": [],
   "source": [
    "# Definition for singly-linked list.\n",
    "class ListNode:\n",
    "    def __init__(self, val=0, next=None):\n",
    "        self.val = val\n",
    "        self.next = next\n",
    "class Solution:\n",
    "    def removeNthFromEnd(self, head: ListNode, n: int) -> ListNode:\n",
    "        num_nodes = 0\n",
    "        pointer = head\n",
    "        while pointer is not None:\n",
    "            num_nodes +=1\n",
    "            pointer = pointer.next\n",
    "        \n",
    "        # locate the position of node from start\n",
    "        pos = num_nodes - n\n",
    "        \n",
    "        if pos == 0:\n",
    "            head = head.next\n",
    "            return head\n",
    "        else:\n",
    "            i = 0\n",
    "            pointer = head\n",
    "            while i < pos-1:\n",
    "                pointer = pointer.next\n",
    "                i += 1\n",
    "        pointer.next = pointer.next.next\n",
    "        return head"
   ]
  },
  {
   "cell_type": "code",
   "execution_count": 29,
   "id": "naked-canada",
   "metadata": {},
   "outputs": [],
   "source": [
    "head = ListNode(3, ListNode(2, ListNode(4, ListNode(9))))\n",
    "s = Solution()"
   ]
  },
  {
   "cell_type": "code",
   "execution_count": 35,
   "id": "wanted-welding",
   "metadata": {},
   "outputs": [
    {
     "name": "stdout",
     "output_type": "stream",
     "text": [
      "4\n"
     ]
    }
   ],
   "source": [
    "h = s.removeNthFromEnd(head, n=1)"
   ]
  },
  {
   "cell_type": "code",
   "execution_count": 36,
   "id": "northern-stupid",
   "metadata": {},
   "outputs": [
    {
     "data": {
      "text/plain": [
       "3"
      ]
     },
     "execution_count": 36,
     "metadata": {},
     "output_type": "execute_result"
    }
   ],
   "source": [
    "h.val"
   ]
  },
  {
   "cell_type": "code",
   "execution_count": 37,
   "id": "different-lesbian",
   "metadata": {},
   "outputs": [
    {
     "data": {
      "text/plain": [
       "2"
      ]
     },
     "execution_count": 37,
     "metadata": {},
     "output_type": "execute_result"
    }
   ],
   "source": [
    "h.next.val"
   ]
  },
  {
   "cell_type": "code",
   "execution_count": 38,
   "id": "federal-equipment",
   "metadata": {},
   "outputs": [
    {
     "data": {
      "text/plain": [
       "4"
      ]
     },
     "execution_count": 38,
     "metadata": {},
     "output_type": "execute_result"
    }
   ],
   "source": [
    "h.next.next.val"
   ]
  },
  {
   "cell_type": "code",
   "execution_count": null,
   "id": "divided-verse",
   "metadata": {},
   "outputs": [],
   "source": []
  }
 ],
 "metadata": {
  "kernelspec": {
   "display_name": "Python 3",
   "language": "python",
   "name": "python3"
  },
  "language_info": {
   "codemirror_mode": {
    "name": "ipython",
    "version": 3
   },
   "file_extension": ".py",
   "mimetype": "text/x-python",
   "name": "python",
   "nbconvert_exporter": "python",
   "pygments_lexer": "ipython3",
   "version": "3.8.5"
  }
 },
 "nbformat": 4,
 "nbformat_minor": 5
}
