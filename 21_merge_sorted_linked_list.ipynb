{
 "cells": [
  {
   "cell_type": "markdown",
   "id": "referenced-freeze",
   "metadata": {},
   "source": [
    "Leetcode URL: (https://leetcode.com/problems/merge-two-sorted-lists/)"
   ]
  },
  {
   "cell_type": "code",
   "execution_count": 60,
   "id": "higher-relay",
   "metadata": {},
   "outputs": [],
   "source": [
    "# Definition for singly-linked list.\n",
    "class ListNode:\n",
    "    def __init__(self, val=0, next=None):\n",
    "        self.val = val\n",
    "        self.next = next\n",
    "    \n",
    "    def print_list(self):\n",
    "        node = self\n",
    "        while node is not None:\n",
    "            print(node.val, end = \" \")\n",
    "            node = node.next\n",
    "        return None\n",
    "        \n",
    "class Solution:\n",
    "    def mergeTwoLists(self, l1: ListNode, l2: ListNode) -> ListNode:\n",
    "        if l1 is None:\n",
    "            return l2\n",
    "        \n",
    "        elif l2 is None:\n",
    "            return l1\n",
    "        \n",
    "        elif l1.val <= l2.val:\n",
    "            temp = l1\n",
    "            temp.next = self.mergeTwoLists(l1.next, l2)\n",
    "        \n",
    "        else:\n",
    "            temp = l2\n",
    "            temp.next = self.mergeTwoLists(l1, l2.next)\n",
    "        \n",
    "        return temp"
   ]
  },
  {
   "cell_type": "code",
   "execution_count": 61,
   "id": "wireless-coating",
   "metadata": {},
   "outputs": [
    {
     "name": "stdout",
     "output_type": "stream",
     "text": [
      "1 14 15 "
     ]
    }
   ],
   "source": [
    "l1_1 = ListNode(1)\n",
    "l1_2 = ListNode(14)\n",
    "l1_1.next = l1_2\n",
    "l1_3 = ListNode(15)\n",
    "l1_2.next = l1_3\n",
    "l1_1.print_list()"
   ]
  },
  {
   "cell_type": "code",
   "execution_count": 62,
   "id": "accepted-renewal",
   "metadata": {},
   "outputs": [
    {
     "name": "stdout",
     "output_type": "stream",
     "text": [
      "6 7 "
     ]
    }
   ],
   "source": [
    "l2_1 = ListNode(6)\n",
    "l2_2 = ListNode(7)\n",
    "l2_1.next = l2_2\n",
    "l2_1.print_list()"
   ]
  },
  {
   "cell_type": "code",
   "execution_count": 63,
   "id": "molecular-recovery",
   "metadata": {},
   "outputs": [],
   "source": [
    "sol = Solution()\n",
    "start = sol.mergeTwoLists(l1_1, l2_1)"
   ]
  },
  {
   "cell_type": "code",
   "execution_count": 64,
   "id": "collect-funds",
   "metadata": {},
   "outputs": [
    {
     "name": "stdout",
     "output_type": "stream",
     "text": [
      "1 6 7 14 15 "
     ]
    }
   ],
   "source": [
    "start.print_list()"
   ]
  }
 ],
 "metadata": {
  "kernelspec": {
   "display_name": "Python 3",
   "language": "python",
   "name": "python3"
  },
  "language_info": {
   "codemirror_mode": {
    "name": "ipython",
    "version": 3
   },
   "file_extension": ".py",
   "mimetype": "text/x-python",
   "name": "python",
   "nbconvert_exporter": "python",
   "pygments_lexer": "ipython3",
   "version": "3.8.5"
  }
 },
 "nbformat": 4,
 "nbformat_minor": 5
}
