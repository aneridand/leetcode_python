{
 "cells": [
  {
   "cell_type": "markdown",
   "id": "wound-language",
   "metadata": {},
   "source": [
    "Leetcode URL: (https://leetcode.com/problems/merge-two-sorted-lists/)"
   ]
  },
  {
   "cell_type": "code",
   "execution_count": 36,
   "id": "golden-protest",
   "metadata": {},
   "outputs": [],
   "source": [
    "# Definition for singly-linked list.\n",
    "class ListNode:\n",
    "    def __init__(self, val=0, next=None):\n",
    "        self.val = val\n",
    "        self.next = next\n",
    "        \n",
    "class Solution:\n",
    "    def mergeTwoLists(self, l1: ListNode, l2: ListNode) -> ListNode:\n",
    "        head1 = l1\n",
    "        head2 = l2\n",
    "        if l1 is None:\n",
    "            return l2\n",
    "        \n",
    "        elif l2 is None:\n",
    "            return l1\n",
    "        \n",
    "        elif l1.val <= l2.val:\n",
    "            temp = l1\n",
    "            temp.next = self.mergeTwoLists(l1.next, l2)\n",
    "        \n",
    "        else:\n",
    "            temp = l2\n",
    "            temp.next = self.mergeTwoLists(l1, l2.next)\n",
    "        \n",
    "        return temp"
   ]
  },
  {
   "cell_type": "code",
   "execution_count": 37,
   "id": "moderate-arthur",
   "metadata": {},
   "outputs": [],
   "source": [
    "l1_1 = ListNode(1)\n",
    "l1_2 = ListNode(14)\n",
    "l1_1.next = l1_2\n",
    "l1_3 = ListNode(15)\n",
    "l1_2.next = l1_3"
   ]
  },
  {
   "cell_type": "code",
   "execution_count": 38,
   "id": "shaped-smart",
   "metadata": {},
   "outputs": [],
   "source": [
    "l2_1 = ListNode(6)\n",
    "l2_2 = ListNode(7)\n",
    "l2_1.next = l2_2"
   ]
  },
  {
   "cell_type": "code",
   "execution_count": 39,
   "id": "express-israeli",
   "metadata": {},
   "outputs": [],
   "source": [
    "sol = Solution()\n",
    "start = sol.mergeTwoLists(l1_1, l2_1)"
   ]
  },
  {
   "cell_type": "code",
   "execution_count": 40,
   "id": "swiss-adult",
   "metadata": {},
   "outputs": [
    {
     "data": {
      "text/plain": [
       "1"
      ]
     },
     "execution_count": 40,
     "metadata": {},
     "output_type": "execute_result"
    }
   ],
   "source": [
    "start.val"
   ]
  },
  {
   "cell_type": "code",
   "execution_count": null,
   "id": "front-watch",
   "metadata": {},
   "outputs": [],
   "source": []
  }
 ],
 "metadata": {
  "kernelspec": {
   "display_name": "Python 3",
   "language": "python",
   "name": "python3"
  },
  "language_info": {
   "codemirror_mode": {
    "name": "ipython",
    "version": 3
   },
   "file_extension": ".py",
   "mimetype": "text/x-python",
   "name": "python",
   "nbconvert_exporter": "python",
   "pygments_lexer": "ipython3",
   "version": "3.8.5"
  }
 },
 "nbformat": 4,
 "nbformat_minor": 5
}
