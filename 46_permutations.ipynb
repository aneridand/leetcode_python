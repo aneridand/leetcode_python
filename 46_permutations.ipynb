{
 "cells": [
  {
   "cell_type": "markdown",
   "id": "opponent-sweden",
   "metadata": {},
   "source": [
    "[Leetcode URL](https://www.kaggle.com/c/ml2-usf-2021/)"
   ]
  },
  {
   "cell_type": "code",
   "execution_count": 67,
   "id": "blank-dealer",
   "metadata": {},
   "outputs": [],
   "source": [
    "class Solution:\n",
    "    def permute(self, nums):\n",
    "        result = []\n",
    "        if len(nums) == 1:\n",
    "            return [nums]\n",
    "        \n",
    "        else:\n",
    "            head = nums[-1]\n",
    "            nums = nums[:-1]\n",
    "            ans = self.permute(nums)\n",
    "            perms = ans.copy()\n",
    "            for perm in perms:\n",
    "                p = perm.copy()\n",
    "                i = len(p)\n",
    "                while i >=0:\n",
    "                    p_ = p.copy()\n",
    "                    p_.insert(i, head)\n",
    "                    i = i-1\n",
    "                    result.append(p_)\n",
    "        return result"
   ]
  },
  {
   "cell_type": "code",
   "execution_count": 68,
   "id": "indirect-wyoming",
   "metadata": {},
   "outputs": [
    {
     "data": {
      "text/plain": [
       "[[3]]"
      ]
     },
     "execution_count": 68,
     "metadata": {},
     "output_type": "execute_result"
    }
   ],
   "source": [
    "s = Solution()\n",
    "s.permute( [3])"
   ]
  },
  {
   "cell_type": "code",
   "execution_count": 69,
   "id": "fossil-russell",
   "metadata": {},
   "outputs": [
    {
     "data": {
      "text/plain": [
       "[[1, 2, 3, 4],\n",
       " [1, 2, 4, 3],\n",
       " [1, 4, 2, 3],\n",
       " [4, 1, 2, 3],\n",
       " [1, 3, 2, 4],\n",
       " [1, 3, 4, 2],\n",
       " [1, 4, 3, 2],\n",
       " [4, 1, 3, 2],\n",
       " [3, 1, 2, 4],\n",
       " [3, 1, 4, 2],\n",
       " [3, 4, 1, 2],\n",
       " [4, 3, 1, 2],\n",
       " [2, 1, 3, 4],\n",
       " [2, 1, 4, 3],\n",
       " [2, 4, 1, 3],\n",
       " [4, 2, 1, 3],\n",
       " [2, 3, 1, 4],\n",
       " [2, 3, 4, 1],\n",
       " [2, 4, 3, 1],\n",
       " [4, 2, 3, 1],\n",
       " [3, 2, 1, 4],\n",
       " [3, 2, 4, 1],\n",
       " [3, 4, 2, 1],\n",
       " [4, 3, 2, 1]]"
      ]
     },
     "execution_count": 69,
     "metadata": {},
     "output_type": "execute_result"
    }
   ],
   "source": [
    "s.permute([1,2,3,4])"
   ]
  },
  {
   "cell_type": "code",
   "execution_count": null,
   "id": "flexible-sailing",
   "metadata": {},
   "outputs": [],
   "source": []
  }
 ],
 "metadata": {
  "kernelspec": {
   "display_name": "Python 3",
   "language": "python",
   "name": "python3"
  },
  "language_info": {
   "codemirror_mode": {
    "name": "ipython",
    "version": 3
   },
   "file_extension": ".py",
   "mimetype": "text/x-python",
   "name": "python",
   "nbconvert_exporter": "python",
   "pygments_lexer": "ipython3",
   "version": "3.8.5"
  }
 },
 "nbformat": 4,
 "nbformat_minor": 5
}
